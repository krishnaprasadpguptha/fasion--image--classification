{
 "cells": [
  {
   "cell_type": "code",
   "execution_count": 1,
   "id": "3bb88551",
   "metadata": {},
   "outputs": [],
   "source": [
    "import tensorflow as tf\n",
    "from tensorflow import keras\n",
    "import numpy as np\n",
    "import matplotlib.pyplot as plt"
   ]
  },
  {
   "cell_type": "markdown",
   "id": "af0915d6",
   "metadata": {},
   "source": [
    "### Problem statement\n",
    "\n",
    "This notebook demonstrate the end-to-end flow of machine learning classification problem using neural networks from keras library\n",
    "\n",
    "- Training\n",
    "- Validation on a holdout set generated from the original training data\n",
    "- Evaluation on the test data\n",
    "\n",
    "We'll use Fashion Fashion-MNIST data for this example"
   ]
  },
  {
   "cell_type": "markdown",
   "id": "a7032dfe",
   "metadata": {},
   "source": [
    "### Dataset\n",
    "Fashion-MNIST is a dataset of Zalando's article images—consisting of a training set of 60,000 examples and a test set of 10,000 examples. Each example is a 28x28 grayscale image, associated with a label from 10 classes. \n",
    "\n",
    "Zalando intends Fashion-MNIST to serve as a direct drop-in replacement for the original MNIST dataset for benchmarking machine learning algorithms. It shares the same image size and structure of training and testing splits.\n",
    "\n",
    "Each image is 28 pixels in height and 28 pixels in width, for a total of 784 pixels in total. Each pixel has a single pixel-value associated with it, indicating the lightness or darkness of that pixel, with higher numbers meaning darker. This pixel-value is an integer between 0 and 255. The training and test data sets have 785 columns. The first column consists of the class labels (see above), and represents the article of clothing. The rest of the columns contain the pixel-values of the associated image\n",
    "\n",
    "**Labels**\n",
    "\n",
    "Each training and test example is assigned to one of the following labels:\n",
    "\n",
    "- 0 T-shirt/top\n",
    "- 1 Trouser\n",
    "- 2 Pullover\n",
    "- 3 Dress\n",
    "- 4 Coat\n",
    "- 5 Sandal\n",
    "- 6 Shirt\n",
    "- 7 Sneaker\n",
    "- 8 Bag\n",
    "- 9 Ankle boot"
   ]
  },
  {
   "cell_type": "code",
   "execution_count": 2,
   "id": "b2597949",
   "metadata": {},
   "outputs": [],
   "source": [
    "# Load the dataset from keras\n",
    "fashion_data = keras.datasets.fashion_mnist\n",
    "(train_images, train_labels), (test_images, test_labels) = fashion_data.load_data()"
   ]
  },
  {
   "cell_type": "code",
   "execution_count": 3,
   "id": "ee1680a8",
   "metadata": {},
   "outputs": [
    {
     "data": {
      "text/plain": [
       "{0, 1, 2, 3, 4, 5, 6, 7, 8, 9}"
      ]
     },
     "execution_count": 3,
     "metadata": {},
     "output_type": "execute_result"
    }
   ],
   "source": [
    "set(train_labels)"
   ]
  },
  {
   "cell_type": "code",
   "execution_count": 4,
   "id": "decee8e5",
   "metadata": {},
   "outputs": [
    {
     "name": "stdout",
     "output_type": "stream",
     "text": [
      "Image Label : 1\n"
     ]
    },
    {
     "data": {
      "text/plain": [
       "<matplotlib.image.AxesImage at 0x1f6ffcc7370>"
      ]
     },
     "execution_count": 4,
     "metadata": {},
     "output_type": "execute_result"
    },
    {
     "data": {
      "image/png": "[encoded data removed]",
      "text/plain": [
       "<Figure size 640x480 with 1 Axes>"
      ]
     },
     "metadata": {},
     "output_type": "display_data"
    }
   ],
   "source": [
    "imgIndex = 16\n",
    "img = train_images[imgIndex]\n",
    "print(\"Image Label :\",train_labels[imgIndex])\n",
    "plt.imshow(img)"
   ]
  },
  {
   "cell_type": "markdown",
   "id": "9ddf813f",
   "metadata": {},
   "source": [
    "### Create  neural network\n",
    "When working with input tensors like image datasets, we need to find a way to properly feed them into our input layer.\n",
    "After all, your input data shape needs to match your input layer shape.\n",
    "- Flatten: \n",
    "    Fashion MNIST has 70,000 images in 10 different fashion categories. Each image has 28* 28 pixel resolution. Here we have an issue feeding this multi-dimensional array or tensor into our input layer. In order to converts the multi-dimensional arrays into flattened one-dimensional arrays or single-dimensional arrays we can use Flatten function. **keras.layers.flatten** function flattens the multi-dimensional input tensors into a single dimension, so you can structure your input layer and build your neural network model, then pass those data into every single neuron of the model effectively\n",
    "    \n",
    "    Why do we have to flatten the input data?<br>\n",
    "    - The first layer of a neural network model should have the same shape as the input data. This is a general rule of thumb for neural networks\n",
    "    "
   ]
  },
  {
   "cell_type": "code",
   "execution_count": 5,
   "id": "f36a3613",
   "metadata": {},
   "outputs": [],
   "source": [
    "model = keras.Sequential([\n",
    "                    keras.layers.Flatten(input_shape=(28,28)), # first layer with 784 neurons\n",
    "                    keras.layers.Dense(128, activation=tf.nn.relu), # second fully connected layer with 128 neurons\n",
    "                    keras.layers.Dense(128, activation=tf.nn.relu), # third fully connected layer with 128 neurons\n",
    "                    keras.layers.Dense(10, activation=tf.nn.softmax) # output layer with with 10 neurons\n",
    "])"
   ]
  },
  {
   "cell_type": "code",
   "execution_count": 6,
   "id": "d3ffaf05",
   "metadata": {},
   "outputs": [],
   "source": [
    "# compilation is a step that transforms the simple sequence of layers that we previously defined into a highly efficient series of matrix transformations.\n",
    "model.compile(optimizer = 'adam',\n",
    "           loss = 'sparse_categorical_crossentropy',\n",
    "           metrics=['accuracy'])"
   ]
  },
  {
   "cell_type": "code",
   "execution_count": 7,
   "id": "7cfec1b3",
   "metadata": {},
   "outputs": [
    {
     "name": "stdout",
     "output_type": "stream",
     "text": [
      "Epoch 1/10\n",
      "1875/1875 [==============================] - 9s 4ms/step - loss: 2.1610 - accuracy: 0.7477\n",
      "Epoch 2/10\n",
      "1875/1875 [==============================] - 8s 4ms/step - loss: 0.6216 - accuracy: 0.7976\n",
      "Epoch 3/10\n",
      "1875/1875 [==============================] - 8s 4ms/step - loss: 0.5615 - accuracy: 0.8085\n",
      "Epoch 4/10\n",
      "1875/1875 [==============================] - 8s 4ms/step - loss: 0.5004 - accuracy: 0.8239\n",
      "Epoch 5/10\n",
      "1875/1875 [==============================] - 8s 4ms/step - loss: 0.4468 - accuracy: 0.8392\n",
      "Epoch 6/10\n",
      "1875/1875 [==============================] - 8s 4ms/step - loss: 0.4239 - accuracy: 0.8473\n",
      "Epoch 7/10\n",
      "1875/1875 [==============================] - 8s 4ms/step - loss: 0.3994 - accuracy: 0.8565\n",
      "Epoch 8/10\n",
      "1875/1875 [==============================] - 8s 4ms/step - loss: 0.3831 - accuracy: 0.8620\n",
      "Epoch 9/10\n",
      "1875/1875 [==============================] - 8s 4ms/step - loss: 0.3763 - accuracy: 0.8647\n",
      "Epoch 10/10\n",
      "1875/1875 [==============================] - 8s 4ms/step - loss: 0.3692 - accuracy: 0.8661\n"
     ]
    },
    {
     "data": {
      "text/plain": [
       "<keras.callbacks.History at 0x1f6fff1aee0>"
      ]
     },
     "execution_count": 7,
     "metadata": {},
     "output_type": "execute_result"
    }
   ],
   "source": [
    "model.fit(train_images, train_labels, epochs=10, batch_size=32)"
   ]
  },
  {
   "cell_type": "code",
   "execution_count": 11,
   "id": "2a1bc6bd",
   "metadata": {},
   "outputs": [
    {
     "name": "stdout",
     "output_type": "stream",
     "text": [
      "313/313 [==============================] - 1s 3ms/step - loss: 0.4248 - accuracy: 0.8534\n",
      "313/313 [==============================] - 1s 3ms/step - loss: 0.4248 - accuracy: 0.8534\n"
     ]
    }
   ],
   "source": [
    "model.evaluate(test_images, test_labels)\n",
    "test_loss, test_accuracy = model.evaluate(test_images, test_labels)"
   ]
  },
  {
   "cell_type": "code",
   "execution_count": 12,
   "id": "9069ef87",
   "metadata": {},
   "outputs": [
    {
     "name": "stdout",
     "output_type": "stream",
     "text": [
      "model accuracy 0.8533999919891357\n"
     ]
    }
   ],
   "source": [
    "print(\"model accuracy\", test_accuracy)"
   ]
  },
  {
   "cell_type": "code",
   "execution_count": 14,
   "id": "00e913ae",
   "metadata": {},
   "outputs": [
    {
     "name": "stdout",
     "output_type": "stream",
     "text": [
      "1/1 [==============================] - 0s 193ms/step\n",
      "[[8.7657126e-16 1.3648350e-17 7.1672065e-23 1.8363883e-19 2.3302058e-18\n",
      "  4.1342764e-03 8.1167372e-16 9.2818253e-02 2.6355408e-05 9.0302110e-01]\n",
      " [2.1481599e-05 6.9820965e-07 9.5767462e-01 2.1043017e-05 1.4006721e-02\n",
      "  5.3463698e-16 2.8268622e-02 3.0843746e-14 6.9045009e-06 9.5525029e-12]\n",
      " [1.9496013e-16 1.0000000e+00 2.8156070e-25 1.7333222e-10 5.5383021e-17\n",
      "  7.5315752e-37 6.5424960e-15 0.0000000e+00 3.9326261e-17 0.0000000e+00]\n",
      " [1.0771415e-14 1.0000000e+00 9.0340523e-21 1.7213448e-08 4.3172594e-13\n",
      "  5.6190730e-28 2.0684195e-13 0.0000000e+00 5.6106769e-13 8.3296264e-32]\n",
      " [5.6414869e-02 8.3954437e-05 1.9353190e-01 1.0801229e-02 5.6635022e-02\n",
      "  6.6333536e-07 6.7412984e-01 3.0984454e-06 8.3991196e-03 2.8378631e-07]]\n"
     ]
    }
   ],
   "source": [
    "predictions = model.predict(test_images[0:5])\n",
    "\n",
    "# Print the predicted labels\n",
    "print(predictions)"
   ]
  },
  {
   "cell_type": "code",
   "execution_count": null,
   "id": "856a7b66",
   "metadata": {},
   "outputs": [],
   "source": []
  }
 ],
 "metadata": {
  "kernelspec": {
   "display_name": "Python 3 (ipykernel)",
   "language": "python",
   "name": "python3"
  },
  "language_info": {
   "codemirror_mode": {
    "name": "ipython",
    "version": 3
   },
   "file_extension": ".py",
   "mimetype": "text/x-python",
   "name": "python",
   "nbconvert_exporter": "python",
   "pygments_lexer": "ipython3",
   "version": "3.9.13"
  }
 },
 "nbformat": 4,
 "nbformat_minor": 5
}
